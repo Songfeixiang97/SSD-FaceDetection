{
 "cells": [
  {
   "cell_type": "code",
   "execution_count": 25,
   "metadata": {},
   "outputs": [],
   "source": [
    "from scipy.io import loadmat, savemat\n",
    "import matplotlib.pyplot as plt \n",
    "import os\n",
    "import shutil\n",
    "import random\n",
    "import numpy as np\n",
    "import torch\n",
    "import cv2 as cv"
   ]
  },
  {
   "cell_type": "markdown",
   "metadata": {},
   "source": [
    "***加载数据"
   ]
  },
  {
   "cell_type": "code",
   "execution_count": 44,
   "metadata": {},
   "outputs": [],
   "source": [
    "m = loadmat(\"./wider_face_split/wider_face_val.mat\")\n",
    "data = m['face_bbx_list']\n",
    "img_name = m['file_list']\n",
    "filename = os.listdir('./WIDER_val/images')\n",
    "filename.sort()"
   ]
  },
  {
   "cell_type": "markdown",
   "metadata": {},
   "source": [
    "***检测一下数据集和label是否匹配"
   ]
  },
  {
   "cell_type": "code",
   "execution_count": 64,
   "metadata": {},
   "outputs": [
    {
     "data": {
      "text/plain": [
       "array([539, 162,  63,  76], dtype=int32)"
      ]
     },
     "execution_count": 64,
     "metadata": {},
     "output_type": "execute_result"
    }
   ],
   "source": [
    "data[0][0][6][0][0] #y,x,h,w,cv.imread后的shape为（h,w）"
   ]
  },
  {
   "cell_type": "code",
   "execution_count": 65,
   "metadata": {},
   "outputs": [
    {
     "data": {
      "image/png": "[encoded data removed]",
      "text/plain": [
       "<Figure size 432x288 with 1 Axes>"
      ]
     },
     "metadata": {
      "needs_background": "light"
     },
     "output_type": "display_data"
    }
   ],
   "source": [
    "img = plt.imread('./WIDER_val/images/'+filename[0]+'/'+img_name[0][0][6][0][0]+'.jpg')\n",
    "fig = plt.figure()#创建图\n",
    "img1 = img[162:162+76,539:539+63]\n",
    "plt.imshow(img1) # 显示图片\n",
    "plt.axis('off') # 不显示坐标\n",
    "#plt.gca().add_patch(plt.Rectangle((449,330),122,149))#gca get current axis返回axis\n",
    "plt.show()"
   ]
  },
  {
   "cell_type": "markdown",
   "metadata": {},
   "source": [
    "***清理数据，将比例特殊的数据去除"
   ]
  },
  {
   "cell_type": "code",
   "execution_count": 51,
   "metadata": {},
   "outputs": [],
   "source": [
    "for i in range(61):\n",
    "    index = []\n",
    "    for j,file in enumerate(img_name[i][0]):\n",
    "        img = cv.imread('./WIDER_val/images/'+filename[i]+'/'+file[0][0]+'.jpg')\n",
    "        if img.shape[0]/img.shape[1] < 0.4 or img.shape[0]/img.shape[1]>0.7:\n",
    "            index.append(j)\n",
    "    m1 = np.delete(data[i][0],index,0)\n",
    "    m2 = np.delete(img_name[i][0],index,0)\n",
    "    data[i][0] = m1\n",
    "    img_name[i][0] = m2\n",
    "savemat('./WIDER_val/val.mat',{'face_bbx_list':data,'file_list':img_name})"
   ]
  },
  {
   "cell_type": "markdown",
   "metadata": {},
   "source": [
    "***最终模型训练我们使用(480,270)，直接将坐标标签换算到reshape后的图片中，以便于搜索预选框。"
   ]
  },
  {
   "cell_type": "code",
   "execution_count": 199,
   "metadata": {},
   "outputs": [],
   "source": [
    "m1 = loadmat(\"./WIDER_val/val1.mat\")\n",
    "filename = os.listdir('./WIDER_val/images')\n",
    "filename.sort()\n",
    "img_name1 = m1['file_list']\n",
    "data1 = m1['face_bbx_list']\n",
    "for i in range(61):\n",
    "    index = []\n",
    "    for j,file in enumerate(img_name1[i][0]):\n",
    "        shape = cv.imread('./WIDER_val/images/'+filename[i]+'/'+file[0][0]+'.jpg').shape\n",
    "        data1[i][0][j][0] = data1[i][0][j][0].astype(np.float32)\n",
    "        for box in data1[i][0][j][0]:\n",
    "            box[0] = box[0]*480/shape[1]\n",
    "            box[1] = box[1]*270/shape[0]\n",
    "            box[2] = box[2]*480/shape[1]\n",
    "            box[3] = box[3]*270/shape[0]\n",
    "savemat('./WIDER_val/val.mat',{'face_bbx_list':data1,'file_list':img_name1})"
   ]
  },
  {
   "cell_type": "code",
   "execution_count": 200,
   "metadata": {},
   "outputs": [
    {
     "data": {
      "text/plain": [
       "array([[ 32.34375 , 142.1261  ,  23.4375  ,  14.252199],\n",
       "       [106.40625 , 151.23167 ,  26.25    ,  17.02346 ],\n",
       "       [138.75    , 120.7478  ,  20.625   ,  10.293255],\n",
       "       [165.46875 , 110.85044 ,  18.75    ,  14.252199],\n",
       "       [414.84375 , 149.2522  ,  29.53125 ,  16.231672],\n",
       "       [383.90625 , 154.79472 ,  15.9375  ,  17.02346 ],\n",
       "       [340.78125 , 135.39589 ,  17.34375 ,  12.272727],\n",
       "       [280.3125  ,  97.39003 ,  15.46875 ,  11.480938],\n",
       "       [346.875   , 121.935486,  21.09375 ,  13.064516]], dtype=float32)"
      ]
     },
     "execution_count": 200,
     "metadata": {},
     "output_type": "execute_result"
    }
   ],
   "source": [
    "m = loadmat(\"./WIDER_train/train.mat\")\n",
    "a = m['face_bbx_list']\n",
    "a[0][0][0][0]"
   ]
  },
  {
   "cell_type": "code",
   "execution_count": null,
   "metadata": {},
   "outputs": [],
   "source": []
  }
 ],
 "metadata": {
  "kernelspec": {
   "display_name": "Python 3",
   "language": "python",
   "name": "python3"
  },
  "language_info": {
   "codemirror_mode": {
    "name": "ipython",
    "version": 3
   },
   "file_extension": ".py",
   "mimetype": "text/x-python",
   "name": "python",
   "nbconvert_exporter": "python",
   "pygments_lexer": "ipython3",
   "version": "3.7.3"
  }
 },
 "nbformat": 4,
 "nbformat_minor": 4
}
